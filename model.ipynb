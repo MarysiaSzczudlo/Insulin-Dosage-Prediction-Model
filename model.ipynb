{
 "cells": [
  {
   "cell_type": "code",
   "execution_count": 46,
   "metadata": {},
   "outputs": [],
   "source": [
    "import pandas as pd\n",
    "import numpy as np\n",
    "from sklearn.model_selection import train_test_split\n",
    "from sklearn.preprocessing import StandardScaler, OneHotEncoder\n",
    "from sklearn.compose import ColumnTransformer\n",
    "from sklearn.pipeline import Pipeline\n",
    "from sklearn.ensemble import RandomForestRegressor\n",
    "from sklearn.metrics import mean_squared_error, r2_score\n",
    "from sklearn.impute import SimpleImputer"
   ]
  },
  {
   "cell_type": "code",
   "execution_count": 47,
   "metadata": {},
   "outputs": [],
   "source": [
    "# 1. Loading CSV files\n",
    "diabetes_data = pd.read_csv('diabetes.csv')\n",
    "activity_data = pd.read_csv('diabetes_dataset00.csv')"
   ]
  },
  {
   "cell_type": "code",
   "execution_count": 48,
   "metadata": {},
   "outputs": [],
   "source": [
    "# 2. Selecting the appropriate columns\n",
    "diabetes_features = ['Glucose', 'Insulin']\n",
    "activity_features = ['BMI', 'Physical Activity', 'Genetic Markers', 'Insulin Levels', 'Age', 'Dietary Habits']\n"
   ]
  },
  {
   "cell_type": "code",
   "execution_count": 49,
   "metadata": {},
   "outputs": [],
   "source": [
    "# List of columns to remove\n",
    "columns_to_drop = [\n",
    "    'Target', 'Autoantibodies', 'Family History', 'Environmental Factors', \n",
    "    'Ethnicity', 'Socioeconomic Factors', 'Smoking Status', \n",
    "    'Alcohol Consumption', 'History of PCOS', 'Previous Gestational Diabetes', \n",
    "    'Pregnancy History', 'Cystic Fibrosis Diagnosis', 'Steroid Use History', \n",
    "    'Genetic Testing', 'Liver Function Tests', 'Urine Test', 'Birth Weight', 'Early Onset Symptoms'\n",
    "]\n",
    "\n",
    "# Removing the listed columns\n",
    "activity_data = activity_data.drop(columns=columns_to_drop)"
   ]
  },
  {
   "cell_type": "code",
   "execution_count": 50,
   "metadata": {},
   "outputs": [
    {
     "name": "stdout",
     "output_type": "stream",
     "text": [
      "Genetic Markers                 0\n",
      "Insulin Levels                  0\n",
      "Age                             0\n",
      "BMI                             0\n",
      "Physical Activity               0\n",
      "Dietary Habits                  0\n",
      "Blood Pressure                  0\n",
      "Cholesterol Levels              0\n",
      "Waist Circumference             0\n",
      "Blood Glucose Levels            0\n",
      "Glucose Tolerance Test          0\n",
      "Weight Gain During Pregnancy    0\n",
      "Pancreatic Health               0\n",
      "Pulmonary Function              0\n",
      "Neurological Assessments        0\n",
      "Digestive Enzyme Levels         0\n",
      "dtype: int64\n",
      "Pregnancies                 0\n",
      "Glucose                     0\n",
      "BloodPressure               0\n",
      "SkinThickness               0\n",
      "Insulin                     0\n",
      "BMI                         0\n",
      "DiabetesPedigreeFunction    0\n",
      "Age                         0\n",
      "Outcome                     0\n",
      "dtype: int64\n"
     ]
    }
   ],
   "source": [
    "# Checking if there are any missing values\n",
    "print(activity_data.isnull().sum())\n",
    "print(diabetes_data.isnull().sum())\n",
    "\n",
    "# Optional: removing rows with missing values\n",
    "activity_data = activity_data.dropna()\n",
    "diabetes_data = diabetes_data.dropna()"
   ]
  },
  {
   "cell_type": "code",
   "execution_count": 54,
   "metadata": {},
   "outputs": [],
   "source": [
    "pd.set_option('future.no_silent_downcasting', True)\n",
    "\n",
    "# Changing data to numeric in selected columns:\n",
    "activity_data[columns_to_replace] = activity_data[columns_to_replace].replace(\n",
    "    {'Positive': 1, 'Negative': 0, 'High': 2, 'Moderate': 1, 'Low': 0, 'Healthy': 1, 'Unhealthy': 0, 'Normal': 1, 'Abnormal': 0}\n",
    ")\n"
   ]
  },
  {
   "cell_type": "code",
   "execution_count": 55,
   "metadata": {},
   "outputs": [],
   "source": [
    "# 3. Preparing data\n",
    "sample_size = min(len(diabetes_data), len(activity_data), 1000)\n",
    "diabetes_sample = diabetes_data[diabetes_features].sample(n=sample_size, random_state=42)\n",
    "activity_sample = activity_data[activity_features].sample(n=sample_size, random_state=42)\n",
    "\n",
    "# Merging data\n",
    "merged_data = pd.concat([diabetes_sample.reset_index(drop=True), \n",
    "                         activity_sample.reset_index(drop=True)], axis=1)\n"
   ]
  },
  {
   "cell_type": "code",
   "execution_count": 57,
   "metadata": {},
   "outputs": [
    {
     "ename": "KeyError",
     "evalue": "\"['PhysicalActivity'] not in index\"",
     "output_type": "error",
     "traceback": [
      "\u001b[0;31m---------------------------------------------------------------------------\u001b[0m",
      "\u001b[0;31mKeyError\u001b[0m                                  Traceback (most recent call last)",
      "Cell \u001b[0;32mIn[57], line 1\u001b[0m\n\u001b[0;32m----> 1\u001b[0m X \u001b[38;5;241m=\u001b[39m \u001b[43mmerged_data\u001b[49m\u001b[43m[\u001b[49m\u001b[43mfeatures\u001b[49m\u001b[43m]\u001b[49m\n\u001b[1;32m      2\u001b[0m y \u001b[38;5;241m=\u001b[39m merged_data[target]\n\u001b[1;32m      4\u001b[0m \u001b[38;5;66;03m# Diagnostyka danych\u001b[39;00m\n",
      "File \u001b[0;32m/Library/Frameworks/Python.framework/Versions/3.12/lib/python3.12/site-packages/pandas/core/frame.py:4108\u001b[0m, in \u001b[0;36mDataFrame.__getitem__\u001b[0;34m(self, key)\u001b[0m\n\u001b[1;32m   4106\u001b[0m     \u001b[38;5;28;01mif\u001b[39;00m is_iterator(key):\n\u001b[1;32m   4107\u001b[0m         key \u001b[38;5;241m=\u001b[39m \u001b[38;5;28mlist\u001b[39m(key)\n\u001b[0;32m-> 4108\u001b[0m     indexer \u001b[38;5;241m=\u001b[39m \u001b[38;5;28;43mself\u001b[39;49m\u001b[38;5;241;43m.\u001b[39;49m\u001b[43mcolumns\u001b[49m\u001b[38;5;241;43m.\u001b[39;49m\u001b[43m_get_indexer_strict\u001b[49m\u001b[43m(\u001b[49m\u001b[43mkey\u001b[49m\u001b[43m,\u001b[49m\u001b[43m \u001b[49m\u001b[38;5;124;43m\"\u001b[39;49m\u001b[38;5;124;43mcolumns\u001b[39;49m\u001b[38;5;124;43m\"\u001b[39;49m\u001b[43m)\u001b[49m[\u001b[38;5;241m1\u001b[39m]\n\u001b[1;32m   4110\u001b[0m \u001b[38;5;66;03m# take() does not accept boolean indexers\u001b[39;00m\n\u001b[1;32m   4111\u001b[0m \u001b[38;5;28;01mif\u001b[39;00m \u001b[38;5;28mgetattr\u001b[39m(indexer, \u001b[38;5;124m\"\u001b[39m\u001b[38;5;124mdtype\u001b[39m\u001b[38;5;124m\"\u001b[39m, \u001b[38;5;28;01mNone\u001b[39;00m) \u001b[38;5;241m==\u001b[39m \u001b[38;5;28mbool\u001b[39m:\n",
      "File \u001b[0;32m/Library/Frameworks/Python.framework/Versions/3.12/lib/python3.12/site-packages/pandas/core/indexes/base.py:6200\u001b[0m, in \u001b[0;36mIndex._get_indexer_strict\u001b[0;34m(self, key, axis_name)\u001b[0m\n\u001b[1;32m   6197\u001b[0m \u001b[38;5;28;01melse\u001b[39;00m:\n\u001b[1;32m   6198\u001b[0m     keyarr, indexer, new_indexer \u001b[38;5;241m=\u001b[39m \u001b[38;5;28mself\u001b[39m\u001b[38;5;241m.\u001b[39m_reindex_non_unique(keyarr)\n\u001b[0;32m-> 6200\u001b[0m \u001b[38;5;28;43mself\u001b[39;49m\u001b[38;5;241;43m.\u001b[39;49m\u001b[43m_raise_if_missing\u001b[49m\u001b[43m(\u001b[49m\u001b[43mkeyarr\u001b[49m\u001b[43m,\u001b[49m\u001b[43m \u001b[49m\u001b[43mindexer\u001b[49m\u001b[43m,\u001b[49m\u001b[43m \u001b[49m\u001b[43maxis_name\u001b[49m\u001b[43m)\u001b[49m\n\u001b[1;32m   6202\u001b[0m keyarr \u001b[38;5;241m=\u001b[39m \u001b[38;5;28mself\u001b[39m\u001b[38;5;241m.\u001b[39mtake(indexer)\n\u001b[1;32m   6203\u001b[0m \u001b[38;5;28;01mif\u001b[39;00m \u001b[38;5;28misinstance\u001b[39m(key, Index):\n\u001b[1;32m   6204\u001b[0m     \u001b[38;5;66;03m# GH 42790 - Preserve name from an Index\u001b[39;00m\n",
      "File \u001b[0;32m/Library/Frameworks/Python.framework/Versions/3.12/lib/python3.12/site-packages/pandas/core/indexes/base.py:6252\u001b[0m, in \u001b[0;36mIndex._raise_if_missing\u001b[0;34m(self, key, indexer, axis_name)\u001b[0m\n\u001b[1;32m   6249\u001b[0m     \u001b[38;5;28;01mraise\u001b[39;00m \u001b[38;5;167;01mKeyError\u001b[39;00m(\u001b[38;5;124mf\u001b[39m\u001b[38;5;124m\"\u001b[39m\u001b[38;5;124mNone of [\u001b[39m\u001b[38;5;132;01m{\u001b[39;00mkey\u001b[38;5;132;01m}\u001b[39;00m\u001b[38;5;124m] are in the [\u001b[39m\u001b[38;5;132;01m{\u001b[39;00maxis_name\u001b[38;5;132;01m}\u001b[39;00m\u001b[38;5;124m]\u001b[39m\u001b[38;5;124m\"\u001b[39m)\n\u001b[1;32m   6251\u001b[0m not_found \u001b[38;5;241m=\u001b[39m \u001b[38;5;28mlist\u001b[39m(ensure_index(key)[missing_mask\u001b[38;5;241m.\u001b[39mnonzero()[\u001b[38;5;241m0\u001b[39m]]\u001b[38;5;241m.\u001b[39munique())\n\u001b[0;32m-> 6252\u001b[0m \u001b[38;5;28;01mraise\u001b[39;00m \u001b[38;5;167;01mKeyError\u001b[39;00m(\u001b[38;5;124mf\u001b[39m\u001b[38;5;124m\"\u001b[39m\u001b[38;5;132;01m{\u001b[39;00mnot_found\u001b[38;5;132;01m}\u001b[39;00m\u001b[38;5;124m not in index\u001b[39m\u001b[38;5;124m\"\u001b[39m)\n",
      "\u001b[0;31mKeyError\u001b[0m: \"['PhysicalActivity'] not in index\""
     ]
    }
   ],
   "source": [
    "X = merged_data[features]\n",
    "y = merged_data[target]\n",
    "\n",
    "# Data diagnostics\n",
    "print(\"Typy danych w zbiorze X:\")\n",
    "print(X.dtypes)\n",
    "print(\"\\nPróbka danych X:\")\n",
    "print(X.head())\n",
    "print(\"\\nLiczba unikalnych wartości w każdej kolumnie:\")\n",
    "print(X.nunique())\n",
    "print(\"\\nOpis statystyczny danych:\")\n",
    "print(X.describe())\n",
    "print(\"\\nSprawdzenie brakujących wartości:\")\n",
    "print(X.isnull().sum())\n"
   ]
  },
  {
   "cell_type": "code",
   "execution_count": 58,
   "metadata": {},
   "outputs": [
    {
     "ename": "NameError",
     "evalue": "name 'X' is not defined",
     "output_type": "error",
     "traceback": [
      "\u001b[0;31m---------------------------------------------------------------------------\u001b[0m",
      "\u001b[0;31mNameError\u001b[0m                                 Traceback (most recent call last)",
      "Cell \u001b[0;32mIn[58], line 2\u001b[0m\n\u001b[1;32m      1\u001b[0m \u001b[38;5;66;03m# 5. Podział danych na zbiór treningowy i testowy\u001b[39;00m\n\u001b[0;32m----> 2\u001b[0m X_train, X_test, y_train, y_test \u001b[38;5;241m=\u001b[39m train_test_split(\u001b[43mX\u001b[49m, y, test_size\u001b[38;5;241m=\u001b[39m\u001b[38;5;241m0.2\u001b[39m, random_state\u001b[38;5;241m=\u001b[39m\u001b[38;5;241m42\u001b[39m)\n",
      "\u001b[0;31mNameError\u001b[0m: name 'X' is not defined"
     ]
    }
   ],
   "source": [
    "# 5. Splitting the data into training and test sets\n",
    "X_train, X_test, y_train, y_test = train_test_split(X, y, test_size=0.2, random_state=42)\n"
   ]
  },
  {
   "cell_type": "code",
   "execution_count": 70,
   "metadata": {},
   "outputs": [],
   "source": [
    "# 6. Data processing preparation\n",
    "preprocessor = ColumnTransformer(\n",
    "    transformers=[\n",
    "        ('num', StandardScaler(), features)\n",
    "    ])"
   ]
  },
  {
   "cell_type": "code",
   "execution_count": 71,
   "metadata": {},
   "outputs": [],
   "source": [
    "# 7. Creating pipeline\n",
    "pipeline = Pipeline([\n",
    "    ('preprocessor', preprocessor),\n",
    "    ('regressor', RandomForestRegressor(n_estimators=100, random_state=42))\n",
    "])\n"
   ]
  },
  {
   "cell_type": "code",
   "execution_count": 72,
   "metadata": {},
   "outputs": [
    {
     "name": "stdout",
     "output_type": "stream",
     "text": [
      "Wystąpił błąd podczas trenowania modelu: could not convert string to float: 'Yes'\n"
     ]
    }
   ],
   "source": [
    "# 8. Model training\n",
    "try:\n",
    "    pipeline.fit(X_train, y_train)\n",
    "    print(\"Model został pomyślnie wytrenowany.\")\n",
    "except Exception as e:\n",
    "    print(f\"Wystąpił błąd podczas trenowania modelu: {e}\")\n"
   ]
  },
  {
   "cell_type": "code",
   "execution_count": 73,
   "metadata": {},
   "outputs": [
    {
     "name": "stdout",
     "output_type": "stream",
     "text": [
      "Wystąpił błąd podczas testowania modelu: 'ColumnTransformer' object has no attribute 'transformers_'\n"
     ]
    }
   ],
   "source": [
    "# 9. Testing and Evaluating the Model\n",
    "if hasattr(pipeline, 'predict'):\n",
    "    try:\n",
    "        y_pred = pipeline.predict(X_test)\n",
    "        mse = mean_squared_error(y_test, y_pred)\n",
    "        r2 = r2_score(y_test, y_pred)\n",
    "        print(f\"\\nMean Squared Error: {mse}\")\n",
    "        print(f\"R2 Score: {r2}\")\n",
    "    except Exception as e:\n",
    "        print(f\"An error occurred while testing the model: {e}\")\n",
    "\n",
    "# Insulin dose recommendation function\n",
    "def recommend_insulin_dose(glucose, physical_activity, bmi):\n",
    "    input_data = pd.DataFrame([[glucose, physical_activity, bmi]], \n",
    "                              columns=['Glucose', 'PhysicalActivity', 'BMI'])\n",
    "    input_data = input_data.astype(float)  # Conversion to float\n",
    "    try:\n",
    "        recommended_dose = pipeline.predict(input_data)[0]\n",
    "        return recommended_dose\n",
    "    except Exception as e:\n",
    "        print(f\"An error occurred while recommending the insulin dose: {e}\")\n",
    "        return None"
   ]
  },
  {
   "cell_type": "code",
   "execution_count": 49,
   "metadata": {},
   "outputs": [
    {
     "name": "stdout",
     "output_type": "stream",
     "text": [
      "Wystąpił błąd podczas rekomendacji dawki insuliny: ufunc 'isnan' not supported for the input types, and the inputs could not be safely coerced to any supported types according to the casting rule ''safe''\n"
     ]
    }
   ],
   "source": [
    "# Usage example (if model has been trained)\n",
    "if 'pipeline' in locals() and hasattr(pipeline, 'predict'):\n",
    "    sample_glucose = 120\n",
    "    sample_physical_activity = 1\n",
    "    sample_bmi = 25\n",
    "    recommended_dose = recommend_insulin_dose(sample_glucose, sample_physical_activity, sample_bmi)\n",
    "    if recommended_dose is not None:\n",
    "        print(f\"\\nRecommended insulin dose: {recommended_dose:.2f} units.\")"
   ]
  },
  {
   "cell_type": "markdown",
   "metadata": {},
   "source": [
    "Zapytać chatgpt czy nie lepiej zamienić dane na numeryczne "
   ]
  }
 ],
 "metadata": {
  "kernelspec": {
   "display_name": "Python 3",
   "language": "python",
   "name": "python3"
  },
  "language_info": {
   "codemirror_mode": {
    "name": "ipython",
    "version": 3
   },
   "file_extension": ".py",
   "mimetype": "text/x-python",
   "name": "python",
   "nbconvert_exporter": "python",
   "pygments_lexer": "ipython3",
   "version": "3.12.3"
  }
 },
 "nbformat": 4,
 "nbformat_minor": 2
}
